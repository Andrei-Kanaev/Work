{
 "cells": [
  {
   "cell_type": "markdown",
   "metadata": {},
   "source": [
    "# Numpy"
   ]
  },
  {
   "cell_type": "markdown",
   "metadata": {},
   "source": [
    "Материалы:\n",
    "* Макрушин С.В. \"Лекция 1: Библиотека Numpy\"\n",
    "* https://numpy.org/doc/stable/user/index.html\n",
    "* https://numpy.org/doc/stable/reference/index.html"
   ]
  },
  {
   "cell_type": "markdown",
   "metadata": {},
   "source": [
    "## Задачи для совместного разбора"
   ]
  },
  {
   "cell_type": "markdown",
   "metadata": {},
   "source": [
    "1. Сгенерировать двухмерный массив `arr` размерности (4, 7), состоящий из случайных действительных чисел, равномерно распределенных в диапазоне от 0 до 20. Нормализовать значения массива с помощью преобразования вида  $𝑎𝑥+𝑏$  так, что после нормализации максимальный элемент масcива будет равен 1.0, минимальный 0.0"
   ]
  },
  {
   "cell_type": "code",
   "execution_count": 2,
   "metadata": {},
   "outputs": [],
   "source": [
    "import numpy as np"
   ]
  },
  {
   "cell_type": "code",
   "execution_count": 19,
   "metadata": {},
   "outputs": [
    {
     "name": "stdout",
     "output_type": "stream",
     "text": [
      "[[0.5283385  0.69994259 0.72212978 0.         0.78018165 0.33941077\n",
      "  0.04969523]\n",
      " [0.31897425 0.79988048 0.59843137 0.50976681 0.81366359 0.7538006\n",
      "  0.78895594]\n",
      " [0.32412173 0.87057478 0.39062833 0.09773989 0.72834942 0.43560777\n",
      "  1.        ]\n",
      " [0.02178249 0.40755021 0.75604094 0.09354636 0.86114087 0.53176043\n",
      "  0.9849707 ]]\n"
     ]
    }
   ],
   "source": [
    "matrix = np.random.uniform(0, 20, size = (4, 7))\n",
    "matrix = matrix - matrix.min()\n",
    "matrix = matrix / matrix.max()\n",
    "print(matrix)"
   ]
  },
  {
   "cell_type": "markdown",
   "metadata": {},
   "source": [
    "2. Создать матрицу 8 на 10 из случайных целых (используя модуль `numpy.random`) чисел из диапозона от 0 до 10 и найти в ней строку (ее индекс и вывести саму строку), в которой сумма значений минимальна."
   ]
  },
  {
   "cell_type": "code",
   "execution_count": 40,
   "metadata": {},
   "outputs": [
    {
     "name": "stdout",
     "output_type": "stream",
     "text": [
      "[[0 1 1 0 1 1 0 0 1 1]\n",
      " [1 0 1 0 1 1 0 1 0 0]\n",
      " [1 0 1 1 0 1 1 1 0 1]\n",
      " [1 1 1 1 1 1 1 0 1 0]\n",
      " [1 0 0 0 1 1 0 0 0 0]\n",
      " [1 1 0 1 1 0 1 1 0 0]\n",
      " [1 0 1 0 0 1 1 1 1 1]\n",
      " [0 0 1 1 0 1 1 0 1 1]]\n",
      "4\n",
      "[1 0 0 0 1 1 0 0 0 0]\n"
     ]
    }
   ],
   "source": [
    "matrix = np.random.randint(0, 2, size = (8, 10))\n",
    "print(matrix)\n",
    "row_sum = matrix.sum(axis=1)\n",
    "row_sum_min_value_index = row_sum.argmin(axis=0)\n",
    "print(row_sum_min_value_index)\n",
    "print(matrix[row_sum_min_value_index])"
   ]
  },
  {
   "cell_type": "markdown",
   "metadata": {},
   "source": [
    "3. Найти евклидово расстояние между двумя одномерными векторами одинаковой размерности."
   ]
  },
  {
   "cell_type": "code",
   "execution_count": 43,
   "metadata": {},
   "outputs": [
    {
     "name": "stdout",
     "output_type": "stream",
     "text": [
      "12.409673645990857\n"
     ]
    }
   ],
   "source": [
    "from numpy.linalg import norm\n",
    "\n",
    "a = np.array([2, 6, 7, 7, 5, 13, 14, 17, 11, 8])\n",
    "b = np.array([3, 5, 5, 3, 7, 12, 13, 19, 22, 7])\n",
    "\n",
    "print(norm(a - b))\n"
   ]
  },
  {
   "cell_type": "markdown",
   "metadata": {},
   "source": [
    "4. Решить матричное уравнение `A*X*B=-C` - найти матрицу `X`. Где `A = [[-1, 2, 4], [-3, 1, 2], [-3, 0, 1]]`, `B=[[3, -1], [2, 1]]`, `C=[[7, 21], [11, 8], [8, 4]]`."
   ]
  },
  {
   "cell_type": "code",
   "execution_count": 65,
   "metadata": {},
   "outputs": [
    {
     "data": {
      "text/plain": [
       "array([[ 1.00000000e+00,  5.32907052e-16],\n",
       "       [-2.00000000e+00,  1.00000000e+00],\n",
       "       [ 3.00000000e+00, -4.00000000e+00]])"
      ]
     },
     "execution_count": 65,
     "metadata": {},
     "output_type": "execute_result"
    }
   ],
   "source": [
    "a = np.array([[-1, 2, 4], [-3, 1, 2], [-3, 0, 1]])\n",
    "b = np.array([[3, -1], [2, 1]])\n",
    "c = np.array([[7, 21], [11, 8], [8, 4]])\n",
    "\n",
    "x = np.dot(np.dot(np.linalg.inv(a), -c), np.linalg.inv(b))\n",
    "\n",
    "print(x)"
   ]
  },
  {
   "cell_type": "markdown",
   "metadata": {},
   "source": [
    "## Лабораторная работа №1"
   ]
  },
  {
   "cell_type": "markdown",
   "metadata": {},
   "source": [
    "Замечание: при решении данных задач не подразумевается использования циклов или генераторов Python, если в задании не сказано обратного. Решение должно опираться на использования функционала библиотеки `numpy`."
   ]
  },
  {
   "cell_type": "markdown",
   "metadata": {},
   "source": [
    "1. Файл `minutes_n_ingredients.csv` содержит информацию об идентификаторе рецепта, времени его выполнения в минутах и количестве необходимых ингредиентов. Считайте данные из этого файла в виде массива `numpy` типа `int32`, используя `np.loadtxt`. Выведите на экран первые 5 строк массива."
   ]
  },
  {
   "cell_type": "code",
   "execution_count": 288,
   "metadata": {},
   "outputs": [
    {
     "name": "stdout",
     "output_type": "stream",
     "text": [
      "[[127244     60     16]\n",
      " [ 23891     25      7]\n",
      " [ 94746     10      6]\n",
      " [ 67660      5      6]\n",
      " [157911     60     14]]\n"
     ]
    }
   ],
   "source": [
    "minutes_n_ingredients = np.loadtxt(\n",
    "    'minutes_n_ingredients.csv',\n",
    "    dtype='int32',\n",
    "    skiprows=1,\n",
    "    delimiter=',',\n",
    ")\n",
    "\n",
    "print(minutes_n_ingredients[:5])"
   ]
  },
  {
   "cell_type": "markdown",
   "metadata": {},
   "source": [
    "2. Вычислите среднее значение, минимум, максимум и медиану по каждому из столбцов, кроме первого."
   ]
  },
  {
   "cell_type": "code",
   "execution_count": 114,
   "metadata": {},
   "outputs": [
    {
     "name": "stdout",
     "output_type": "stream",
     "text": [
      "21601.00169\t9.05528\n",
      "0\t\t1\n",
      "2147483647\t39\n",
      "40.0\t\t9.0\n"
     ]
    }
   ],
   "source": [
    "print(*minutes_n_ingredients[:, 1:].mean(axis=0), sep='\\t')\n",
    "print(*minutes_n_ingredients[:, 1:].min(axis=0), sep='\\t\\t')\n",
    "print(*minutes_n_ingredients[:, 1:].max(axis=0), sep='\\t')\n",
    "print(*np.median(minutes_n_ingredients[:, 1:], axis=0), sep='\\t\\t')"
   ]
  },
  {
   "cell_type": "markdown",
   "metadata": {},
   "source": [
    "3. Ограничьте сверху значения продолжительности выполнения рецепта значением квантиля $q_{0.75}$. "
   ]
  },
  {
   "cell_type": "code",
   "execution_count": 137,
   "metadata": {},
   "outputs": [
    {
     "name": "stdout",
     "output_type": "stream",
     "text": [
      "[[127244     60     16]\n",
      " [ 23891     25      7]\n",
      " [ 94746     10      6]\n",
      " ...\n",
      " [371794     35      8]\n",
      " [ 43407     35      7]\n",
      " [370915      5      4]]\n"
     ]
    }
   ],
   "source": [
    "q75duration = np.quantile(minutes_n_ingredients, 0.75, axis=0)[1]\n",
    "print(minutes_n_ingredients[minutes_n_ingredients[:, 1] < q75duration])"
   ]
  },
  {
   "cell_type": "markdown",
   "metadata": {},
   "source": [
    "4. Посчитайте, для скольких рецептов указана продолжительность, равная нулю. Замените для таких строк значение в данном столбце на 1."
   ]
  },
  {
   "cell_type": "code",
   "execution_count": 350,
   "metadata": {},
   "outputs": [],
   "source": [
    "minutes_n_ingredients[minutes_n_ingredients[:, 1] == 0, 1] = 1"
   ]
  },
  {
   "cell_type": "markdown",
   "metadata": {},
   "source": [
    "5. Посчитайте, сколько уникальных рецептов находится в датасете."
   ]
  },
  {
   "cell_type": "code",
   "execution_count": 221,
   "metadata": {},
   "outputs": [
    {
     "data": {
      "text/plain": [
       "4183"
      ]
     },
     "execution_count": 221,
     "metadata": {},
     "output_type": "execute_result"
    }
   ],
   "source": [
    "len(np.unique(minutes_n_ingredients[:, 1:], axis=0))"
   ]
  },
  {
   "cell_type": "markdown",
   "metadata": {},
   "source": [
    "6. Сколько и каких различных значений кол-ва ингредиентов присутвует в рецептах из датасета?"
   ]
  },
  {
   "cell_type": "code",
   "execution_count": 224,
   "metadata": {},
   "outputs": [
    {
     "name": "stdout",
     "output_type": "stream",
     "text": [
      "[ 1  2  3  4  5  6  7  8  9 10 11 12 13 14 15 16 17 18 19 20 21 22 23 24\n",
      " 25 26 27 28 29 30 31 32 33 34 35 37 39]\n",
      "37\n"
     ]
    }
   ],
   "source": [
    "print(np.unique(minutes_n_ingredients[:, 2], axis=0))\n",
    "print(len(np.unique(minutes_n_ingredients[:, 2], axis=0)))"
   ]
  },
  {
   "cell_type": "markdown",
   "metadata": {},
   "source": [
    "7. Создайте версию массива, содержащую информацию только о рецептах, состоящих не более чем из 5 ингредиентов."
   ]
  },
  {
   "cell_type": "code",
   "execution_count": 226,
   "metadata": {},
   "outputs": [
    {
     "name": "stdout",
     "output_type": "stream",
     "text": [
      "[[204134      5      3]\n",
      " [ 25623      6      4]\n",
      " [484223     18      4]\n",
      " ...\n",
      " [227056     30      4]\n",
      " [128811     15      4]\n",
      " [370915      5      4]]\n"
     ]
    }
   ],
   "source": [
    "less5 = minutes_n_ingredients[minutes_n_ingredients[:, 2] < 5]\n",
    "print(less5)"
   ]
  },
  {
   "cell_type": "markdown",
   "metadata": {},
   "source": [
    "8. Для каждого рецепта посчитайте, сколько в среднем ингредиентов приходится на одну минуту рецепта. Найдите максимальное значение этой величины для всего датасета"
   ]
  },
  {
   "cell_type": "code",
   "execution_count": 228,
   "metadata": {},
   "outputs": [
    {
     "data": {
      "text/plain": [
       "24.0"
      ]
     },
     "execution_count": 228,
     "metadata": {},
     "output_type": "execute_result"
    }
   ],
   "source": [
    "max(minutes_n_ingredients[:, 2] / minutes_n_ingredients[:, 1])"
   ]
  },
  {
   "cell_type": "markdown",
   "metadata": {},
   "source": [
    "9. Вычислите среднее количество ингредиентов для топ-100 рецептов с наибольшей продолжительностью"
   ]
  },
  {
   "cell_type": "code",
   "execution_count": 244,
   "metadata": {},
   "outputs": [
    {
     "data": {
      "text/plain": [
       "6.617647058823529"
      ]
     },
     "execution_count": 244,
     "metadata": {},
     "output_type": "execute_result"
    }
   ],
   "source": [
    "min_of_max_duration = np.sort(minutes_n_ingredients[:, 1])[-100:].min()\n",
    "minutes_n_ingredients[minutes_n_ingredients[:, 1] >= min_of_max_duration][:, 2].mean()"
   ]
  },
  {
   "cell_type": "markdown",
   "metadata": {},
   "source": [
    "10. Выберите случайным образом и выведите информацию о 10 различных рецептах"
   ]
  },
  {
   "cell_type": "code",
   "execution_count": 259,
   "metadata": {},
   "outputs": [
    {
     "data": {
      "text/plain": [
       "array([[170119,     10,      8],\n",
       "       [251717,     70,      9],\n",
       "       [373878,    250,     10],\n",
       "       [456871,     60,      7],\n",
       "       [110375,    390,     20],\n",
       "       [102460,     35,      8],\n",
       "       [ 14130,     20,      7],\n",
       "       [131609,    135,     10],\n",
       "       [327461,      5,      4],\n",
       "       [462134,     65,      9]])"
      ]
     },
     "execution_count": 259,
     "metadata": {},
     "output_type": "execute_result"
    }
   ],
   "source": [
    "idx = np.random.randint(minutes_n_ingredients.shape[0], size=10)\n",
    "minutes_n_ingredients[idx, :]"
   ]
  },
  {
   "cell_type": "markdown",
   "metadata": {},
   "source": [
    "11. Выведите процент рецептов, кол-во ингредиентов в которых меньше среднего."
   ]
  },
  {
   "cell_type": "code",
   "execution_count": 265,
   "metadata": {},
   "outputs": [
    {
     "data": {
      "text/plain": [
       "58.802"
      ]
     },
     "execution_count": 265,
     "metadata": {},
     "output_type": "execute_result"
    }
   ],
   "source": [
    "(minutes_n_ingredients[\n",
    "    minutes_n_ingredients[:, 2] < minutes_n_ingredients[:, 2].mean()\n",
    "].shape[0] / minutes_n_ingredients.shape[0]) * 100"
   ]
  },
  {
   "cell_type": "markdown",
   "metadata": {},
   "source": [
    "12. Назовем \"простым\" такой рецепт, длительность выполнения которого не больше 20 минут и кол-во ингредиентов в котором не больше 5. Создайте версию датасета с дополнительным столбцом, значениями которого являются 1, если рецепт простой, и 0 в противном случае."
   ]
  },
  {
   "cell_type": "code",
   "execution_count": 348,
   "metadata": {},
   "outputs": [],
   "source": [
    "mni_simple = minutes_n_ingredients.copy()\n",
    "mni_simple = np.c_[mni_simple, np.zeros(mni_simple.shape[0])] \n",
    "mni_simple[(mni_simple[:, 1] <= 20) & (mni_simple[:, 2] <= 5), 3] = 1\n",
    "simples = mni_simple[mni_simple[:, 3] == 1]"
   ]
  },
  {
   "cell_type": "markdown",
   "metadata": {},
   "source": [
    "13. Выведите процент \"простых\" рецептов в датасете"
   ]
  },
  {
   "cell_type": "code",
   "execution_count": 349,
   "metadata": {},
   "outputs": [
    {
     "data": {
      "text/plain": [
       "9.552"
      ]
     },
     "execution_count": 349,
     "metadata": {},
     "output_type": "execute_result"
    }
   ],
   "source": [
    "(simples.shape[0] / mni_simple.shape[0]) * 100"
   ]
  },
  {
   "cell_type": "markdown",
   "metadata": {},
   "source": [
    "14. Разделим рецепты на группы по следующему правилу. Назовем рецепты короткими, если их продолжительность составляет менее 10 минут; стандартными, если их продолжительность составляет более 10, но менее 20 минут; и длинными, если их продолжительность составляет не менее 20 минут. Создайте трехмерный массив, где нулевая ось отвечает за номер группы (короткий, стандартный или длинный рецепт), первая ось - за сам рецепт и вторая ось - за характеристики рецепта. Выберите максимальное количество рецептов из каждой группы таким образом, чтобы было возможно сформировать трехмерный массив. Выведите форму полученного массива."
   ]
  },
  {
   "cell_type": "code",
   "execution_count": 372,
   "metadata": {},
   "outputs": [
    {
     "data": {
      "text/plain": [
       "array([[[6.76600e+04, 5.00000e+00, 6.00000e+00],\n",
       "        [3.66174e+05, 7.00000e+00, 9.00000e+00],\n",
       "        [2.04134e+05, 5.00000e+00, 3.00000e+00],\n",
       "        ...,\n",
       "        [4.20725e+05, 5.00000e+00, 3.00000e+00],\n",
       "        [4.74700e+03, 1.00000e+00, 9.00000e+00],\n",
       "        [3.70915e+05, 5.00000e+00, 4.00000e+00]],\n",
       "\n",
       "       [[9.47460e+04, 1.00000e+01, 6.00000e+00],\n",
       "        [3.39410e+04, 1.80000e+01, 9.00000e+00],\n",
       "        [4.46597e+05, 1.50000e+01, 5.00000e+00],\n",
       "        ...,\n",
       "        [9.83100e+03, 1.50000e+01, 7.00000e+00],\n",
       "        [3.35859e+05, 1.20000e+01, 1.40000e+01],\n",
       "        [2.56812e+05, 1.00000e+01, 3.00000e+00]],\n",
       "\n",
       "       [[1.27244e+05, 6.00000e+01, 1.60000e+01],\n",
       "        [2.38910e+04, 2.50000e+01, 7.00000e+00],\n",
       "        [1.57911e+05, 6.00000e+01, 1.40000e+01],\n",
       "        ...,\n",
       "        [1.68901e+05, 2.50000e+01, 7.00000e+00],\n",
       "        [3.92339e+05, 3.50000e+01, 1.30000e+01],\n",
       "        [2.06732e+05, 4.50000e+01, 1.00000e+01]]])"
      ]
     },
     "execution_count": 372,
     "metadata": {},
     "output_type": "execute_result"
    }
   ],
   "source": [
    "shorts = minutes_n_ingredients.copy()\n",
    "shorts = shorts[shorts[:, 1] < 10]\n",
    "\n",
    "standarts = minutes_n_ingredients.copy()\n",
    "standarts = standarts[(standarts[:, 1] >= 10) & (standarts[:, 1] < 20)]\n",
    "\n",
    "longs = minutes_n_ingredients.copy()\n",
    "longs = longs[longs[:, 1] >= 20]\n",
    "\n",
    "elements = min(shorts.shape[0], standarts.shape[0], longs.shape[0])\n",
    "\n",
    "res3d = np.zeros((3, elements, 3))\n",
    "res3d[0, :, :] = shorts\n",
    "res3d[1, :, :] = standarts[:elements]\n",
    "res3d[2, :, :] = longs[:elements]\n",
    "res3d"
   ]
  }
 ],
 "metadata": {
  "kernelspec": {
   "display_name": "Python 3 (ipykernel)",
   "language": "python",
   "name": "python3"
  },
  "language_info": {
   "codemirror_mode": {
    "name": "ipython",
    "version": 3
   },
   "file_extension": ".py",
   "mimetype": "text/x-python",
   "name": "python",
   "nbconvert_exporter": "python",
   "pygments_lexer": "ipython3",
   "version": "3.9.13"
  }
 },
 "nbformat": 4,
 "nbformat_minor": 4
}
